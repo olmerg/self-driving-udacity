{
 "cells": [
  {
   "cell_type": "markdown",
   "metadata": {},
   "source": [
    "# Machine Learning\n",
    "\n",
    "- x proving theorems but it important to prove theorems\n",
    "- x computational applied statistics\n",
    "\n",
    "Charles isbell\n",
    "\n",
    "I think that machine learning is about this broader notion of building artifacts.\n",
    "Computational artifacts, typically, that learn over time based on experience.\n",
    "And then, in particular, it's not just the act of building these artifacts thatmatter, it's the math behind it, it's the science behind it, it's the engineering behind it and it's the computing behind it.\n",
    "It's everything that goes into building intelligent artifacts that almost by necessity have to learn over time.\n",
    "\n",
    "\n",
    "## supervised learning\n",
    "\n",
    "### Classification\n",
    "\n",
    "from x inputs  to some discrete number of labels( true or false)\n",
    "\n",
    "\n",
    "instances-> inputs\n",
    "concepts- > functions . Map a set of instance to true or false fo a concept\n",
    "\n",
    "- target concepts ->the thing we are trying to find (the answer to the problem)\n",
    "- Hypothesis class -> is a set of concepts  (all functions) may be possible functions\n",
    "- Sample -> training set. {inputs,outputs labels}\n",
    "- Candidate -> Target concept \n",
    "- Testing set ->determinate if the algorith made a good thing {inputs,outputs labels}\n",
    "**Testing and sample set should not be the same **\n",
    "\n",
    "\n",
    " if you're a teacher and you're telling me, you give me a bunch of fact and then you test me exactly that bunch of facts, it doesn't, I don't have to have understood them. I just can regurgitate them back. If you really want to see if I got the right concept, you have to see whether or not I can apply that concept in new examples.\n",
    " \n",
    " which is exactly why our final exams are written the way that they are written. Because you can argue that I've learned something by doing memorization, but the truth is you haven't. You've just memorized. \n",
    "**Here you have to do generalization. As you remember from our last discussion, generalization is the whole point of machine learning.**\n",
    "\n",
    "\n",
    "https://www.youtube.com/watch?v=nF3r05N3Edc\n",
    "Quiz\n",
    "https://www.youtube.com/watch?v=XA9vnKoz44A\n",
    "\n",
    "### Regression\n",
    "\n",
    " regression is mapping from some input space to some real number. Potentially infinite number of real numbers"
   ]
  }
 ],
 "metadata": {
  "kernelspec": {
   "display_name": "Python 3",
   "language": "python",
   "name": "python3"
  },
  "language_info": {
   "codemirror_mode": {
    "name": "ipython",
    "version": 3
   },
   "file_extension": ".py",
   "mimetype": "text/x-python",
   "name": "python",
   "nbconvert_exporter": "python",
   "pygments_lexer": "ipython3",
   "version": "3.5.2"
  }
 },
 "nbformat": 4,
 "nbformat_minor": 0
}
